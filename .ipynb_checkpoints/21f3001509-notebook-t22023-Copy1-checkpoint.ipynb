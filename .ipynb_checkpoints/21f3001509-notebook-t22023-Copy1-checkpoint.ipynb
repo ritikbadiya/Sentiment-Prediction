{
 "cells": [
  {
   "cell_type": "code",
   "execution_count": 1,
   "metadata": {
    "_cell_guid": "b1076dfc-b9ad-4769-8c92-a6c4dae69d19",
    "_uuid": "8f2839f25d086af736a60e9eeb907d3b93b6e0e5",
    "execution": {
     "iopub.execute_input": "2023-07-09T08:43:41.676765Z",
     "iopub.status.busy": "2023-07-09T08:43:41.676322Z",
     "iopub.status.idle": "2023-07-09T08:43:41.682758Z",
     "shell.execute_reply": "2023-07-09T08:43:41.681615Z",
     "shell.execute_reply.started": "2023-07-09T08:43:41.676728Z"
    }
   },
   "outputs": [],
   "source": [
    "# This Python 3 environment comes with many helpful analytics libraries installed\n",
    "# It is defined by the kaggle/python Docker image: https://github.com/kaggle/docker-python\n",
    "# For example, here's several helpful packages to load\n",
    "\n",
    "import numpy as np # linear algebra\n",
    "import pandas as pd # data processing, CSV file I/O (e.g. pd.read_csv)\n",
    "\n",
    "# Input data files are available in the read-only \"../input/\" directory\n",
    "# For example, running this (by clicking run or pressing Shift+Enter) will list all files under the input directory\n",
    "filenames=[]\n",
    "import os\n",
    "# for dirname, _, filenames in os.walk('/kaggle/input'):\n",
    "#     for filename in filenames:\n",
    "#         #print(os.path.join(dirname, filename))\n",
    "#         filenames.append(os.path.join(dirname, filename))\n",
    "\n",
    "# You can write up to 20GB to the current directory (/kaggle/working/) that gets preserved as output when you create a version using \"Save & Run All\" \n",
    "# You can also write temporary files to /kaggle/temp/, but they won't be saved outside of the current session"
   ]
  },
  {
   "cell_type": "code",
   "execution_count": 2,
   "metadata": {
    "execution": {
     "iopub.execute_input": "2023-07-09T08:43:41.688840Z",
     "iopub.status.busy": "2023-07-09T08:43:41.688353Z",
     "iopub.status.idle": "2023-07-09T08:43:41.696522Z",
     "shell.execute_reply": "2023-07-09T08:43:41.695692Z",
     "shell.execute_reply.started": "2023-07-09T08:43:41.688812Z"
    }
   },
   "outputs": [],
   "source": [
    "import pandas as pd\n",
    "import numpy as np\n",
    "from sklearn.feature_extraction.text import CountVectorizer\n",
    "from sklearn.feature_extraction.text import TfidfTransformer\n",
    "from sklearn.pipeline import Pipeline\n",
    "from sklearn.preprocessing import LabelEncoder\n",
    "from sklearn.model_selection import train_test_split\n",
    "from sklearn.metrics import f1_score,confusion_matrix,ConfusionMatrixDisplay\n",
    "from sklearn.preprocessing import StandardScaler\n",
    "from sklearn.compose import make_column_transformer\n",
    "from scipy.sparse import hstack\n",
    "from sklearn.model_selection import GridSearchCV\n"
   ]
  },
  {
   "cell_type": "code",
   "execution_count": 3,
   "metadata": {
    "execution": {
     "iopub.execute_input": "2023-07-09T08:43:41.698536Z",
     "iopub.status.busy": "2023-07-09T08:43:41.698172Z",
     "iopub.status.idle": "2023-07-09T08:43:41.706760Z",
     "shell.execute_reply": "2023-07-09T08:43:41.706085Z",
     "shell.execute_reply.started": "2023-07-09T08:43:41.698511Z"
    }
   },
   "outputs": [],
   "source": [
    "# train_name=\"/kaggle/input/sentiment-prediction-on-movie-reviews/train.csv\"\n",
    "# test_name=\"/kaggle/input/sentiment-prediction-on-movie-reviews/test.csv\"\n",
    "# movie_name=\"/kaggle/input/sentiment-prediction-on-movie-reviews/movies.csv\"\n",
    "\n",
    "\n",
    "train_name=\"train.csv\"\n",
    "test_name=\"test.csv\"\n",
    "movie_name=\"movies.csv\""
   ]
  },
  {
   "cell_type": "code",
   "execution_count": 4,
   "metadata": {
    "execution": {
     "iopub.execute_input": "2023-07-09T08:43:41.711461Z",
     "iopub.status.busy": "2023-07-09T08:43:41.711176Z",
     "iopub.status.idle": "2023-07-09T08:43:43.077422Z",
     "shell.execute_reply": "2023-07-09T08:43:43.076536Z",
     "shell.execute_reply.started": "2023-07-09T08:43:41.711438Z"
    }
   },
   "outputs": [],
   "source": [
    "train=pd.read_csv(train_name)\n",
    "test=pd.read_csv(test_name)\n",
    "movie=pd.read_csv(movie_name)\n",
    "\n",
    "\n",
    "\n",
    "train.set_index('movieid',inplace=True)\n",
    "test.rename(columns={'isTopCritic':'isFrequentReviewer'},inplace=True)\n",
    "test.set_index(['movieid','reviewerName'],inplace=True,drop=False)\n"
   ]
  },
  {
   "cell_type": "code",
   "execution_count": 5,
   "metadata": {
    "execution": {
     "iopub.execute_input": "2023-07-09T08:43:43.079839Z",
     "iopub.status.busy": "2023-07-09T08:43:43.079289Z",
     "iopub.status.idle": "2023-07-09T08:44:03.750985Z",
     "shell.execute_reply": "2023-07-09T08:44:03.749911Z",
     "shell.execute_reply.started": "2023-07-09T08:43:43.079800Z"
    }
   },
   "outputs": [
    {
     "name": "stderr",
     "output_type": "stream",
     "text": [
      "<ipython-input-5-f915aa95e17f>:9: SettingWithCopyWarning: \n",
      "A value is trying to be set on a copy of a slice from a DataFrame\n",
      "\n",
      "See the caveats in the documentation: https://pandas.pydata.org/pandas-docs/stable/user_guide/indexing.html#returning-a-view-versus-a-copy\n",
      "  movie['boxOffice'][~movie['boxOffice'].isna()]=movie['boxOffice'][~movie['boxOffice'].isna()].apply(currency_fun)\n"
     ]
    }
   ],
   "source": [
    "\n",
    "def currency_fun(i):\n",
    "    if i[-1]=='M':\n",
    "        num=1000000*int(float((i[1:-1])))\n",
    "    elif i[-1]=='K' :\n",
    "        num=1000*int(float(i[1:-1]))\n",
    "    else:\n",
    "        num=int(float(i[1:]))\n",
    "    return num \n",
    "movie['boxOffice'][~movie['boxOffice'].isna()]=movie['boxOffice'][~movie['boxOffice'].isna()].apply(currency_fun)\n",
    "\n",
    "movie['boxOffice'] = pd.to_numeric(movie['boxOffice'])\n",
    "\n",
    "\n",
    "cols_text=['movieid', 'rating', 'ratingContents', 'genre',\n",
    "       'originalLanguage', 'director', 'distributor',\n",
    "       'soundType']\n",
    "cols_num = ['movieid','audienceScore','runtimeMinutes','boxOffice']\n",
    "\n",
    "#df1=movie[cols_text].fillna(\" \").groupby('movieid').agg(lambda x:\" \".join(x))\n",
    "df1=movie[cols_text].fillna(\" \").groupby('movieid').agg(lambda x:x.iloc[0])\n",
    "\n",
    "df2=movie[cols_num].groupby('movieid').agg('mean')\n",
    "df2.fillna(df2.mean(),inplace=True)\n",
    "\n",
    "movie_df=df1.join(df2)"
   ]
  },
  {
   "cell_type": "code",
   "execution_count": null,
   "metadata": {},
   "outputs": [],
   "source": []
  },
  {
   "cell_type": "code",
   "execution_count": 6,
   "metadata": {
    "execution": {
     "iopub.execute_input": "2023-07-09T08:44:03.752467Z",
     "iopub.status.busy": "2023-07-09T08:44:03.752155Z",
     "iopub.status.idle": "2023-07-09T08:44:04.731321Z",
     "shell.execute_reply": "2023-07-09T08:44:04.730435Z",
     "shell.execute_reply.started": "2023-07-09T08:44:03.752441Z"
    }
   },
   "outputs": [],
   "source": [
    "train=train.join(movie_df)\n",
    "col_tmp = test.index\n",
    "test=test.join(movie_df)\n",
    "test.set_index(col_tmp,inplace=True)\n",
    "\n",
    "train.fillna(\"No_review\",inplace=True)\n",
    "test.fillna(\"No_review\",inplace=True)"
   ]
  },
  {
   "cell_type": "code",
   "execution_count": 7,
   "metadata": {
    "execution": {
     "iopub.execute_input": "2023-07-09T08:44:04.733626Z",
     "iopub.status.busy": "2023-07-09T08:44:04.733350Z",
     "iopub.status.idle": "2023-07-09T08:44:04.957882Z",
     "shell.execute_reply": "2023-07-09T08:44:04.956972Z",
     "shell.execute_reply.started": "2023-07-09T08:44:04.733603Z"
    }
   },
   "outputs": [],
   "source": [
    "X_train,X_test,y_train,y_test = train_test_split(train.drop('sentiment',axis=1),train['sentiment'])"
   ]
  },
  {
   "cell_type": "code",
   "execution_count": 8,
   "metadata": {
    "execution": {
     "iopub.execute_input": "2023-07-09T08:44:04.959254Z",
     "iopub.status.busy": "2023-07-09T08:44:04.958961Z",
     "iopub.status.idle": "2023-07-09T08:44:05.003822Z",
     "shell.execute_reply": "2023-07-09T08:44:05.003055Z",
     "shell.execute_reply.started": "2023-07-09T08:44:04.959231Z"
    }
   },
   "outputs": [],
   "source": [
    "X_train['isFrequentReviewer']=X_train['isFrequentReviewer'].apply(lambda x:(1.0 if x else 0.0))\n",
    "#X_train['reviewText'].fillna('',inplace=True)\n",
    "\n",
    "\n",
    "X_test['isFrequentReviewer']=X_test['isFrequentReviewer'].apply(lambda x:(1.0 if x else 0.0))\n",
    "#X_test['reviewText'].fillna('',inplace=True)\n",
    "\n"
   ]
  },
  {
   "cell_type": "code",
   "execution_count": 9,
   "metadata": {
    "execution": {
     "iopub.execute_input": "2023-07-09T08:44:05.005904Z",
     "iopub.status.busy": "2023-07-09T08:44:05.005252Z",
     "iopub.status.idle": "2023-07-09T08:44:05.052771Z",
     "shell.execute_reply": "2023-07-09T08:44:05.051698Z",
     "shell.execute_reply.started": "2023-07-09T08:44:05.005866Z"
    }
   },
   "outputs": [],
   "source": [
    "encoder=LabelEncoder()\n",
    "y_train = encoder.fit_transform(y_train)\n",
    "y_test = encoder.transform(y_test)"
   ]
  },
  {
   "cell_type": "code",
   "execution_count": 10,
   "metadata": {
    "execution": {
     "iopub.execute_input": "2023-07-09T08:44:05.054885Z",
     "iopub.status.busy": "2023-07-09T08:44:05.054462Z",
     "iopub.status.idle": "2023-07-09T08:44:05.079042Z",
     "shell.execute_reply": "2023-07-09T08:44:05.078202Z",
     "shell.execute_reply.started": "2023-07-09T08:44:05.054848Z"
    }
   },
   "outputs": [],
   "source": [
    "numeric_cols = X_train.select_dtypes('float64').columns.values\n",
    "text_cols = X_train.select_dtypes('object').columns.values\n"
   ]
  },
  {
   "cell_type": "code",
   "execution_count": null,
   "metadata": {},
   "outputs": [],
   "source": []
  },
  {
   "cell_type": "code",
   "execution_count": 11,
   "metadata": {
    "execution": {
     "iopub.execute_input": "2023-07-09T08:44:05.080965Z",
     "iopub.status.busy": "2023-07-09T08:44:05.080533Z",
     "iopub.status.idle": "2023-07-09T08:44:05.094207Z",
     "shell.execute_reply": "2023-07-09T08:44:05.093263Z",
     "shell.execute_reply.started": "2023-07-09T08:44:05.080929Z"
    }
   },
   "outputs": [],
   "source": [
    "\n",
    "pipe_numerical = Pipeline([('scaler',StandardScaler())])\n",
    "\n",
    "\n",
    "pipe_text = Pipeline([(\"vect\",CountVectorizer(ngram_range=(1,3),max_features=10000)),\n",
    "                  (\"tfidf\",TfidfTransformer(sublinear_tf=True,smooth_idf=False))\n",
    "                  \n",
    "                ])\n",
    "\n",
    "\n",
    "\n",
    "\n",
    "\n",
    "ct = make_column_transformer((pipe_text,'rating'),\n",
    "                          (pipe_text,'reviewText'),\n",
    "                          (pipe_text,'originalLanguage'),\n",
    "                          (pipe_text,'genre'),\n",
    "                          (pipe_text,\"distributor\"),\n",
    "                          (pipe_text,'soundType'),\n",
    "                           (pipe_text,'ratingContents'),\n",
    "                            (pipe_text,'director'),\n",
    "                             (pipe_text,'reviewerName')\n",
    "                             \n",
    "                          )\n",
    "\n",
    "\n"
   ]
  },
  {
   "cell_type": "code",
   "execution_count": 12,
   "metadata": {
    "execution": {
     "iopub.execute_input": "2023-07-09T08:44:05.096319Z",
     "iopub.status.busy": "2023-07-09T08:44:05.095455Z",
     "iopub.status.idle": "2023-07-09T08:44:05.104704Z",
     "shell.execute_reply": "2023-07-09T08:44:05.103781Z",
     "shell.execute_reply.started": "2023-07-09T08:44:05.096291Z"
    }
   },
   "outputs": [],
   "source": [
    "def transformer(X,pipe_numerical,ct,indicator):\n",
    "    if indicator:\n",
    "        res1=pipe_numerical.fit_transform(X[numeric_cols])\n",
    "        res2=ct.fit_transform(X[text_cols])\n",
    "        return hstack([res1,res2])\n",
    "    else:\n",
    "        res1=pipe_numerical.transform(X[numeric_cols])\n",
    "        res2=ct.transform(X[text_cols])\n",
    "        return hstack([res1,res2])\n",
    "        \n",
    "        \n",
    "    "
   ]
  },
  {
   "cell_type": "code",
   "execution_count": null,
   "metadata": {
    "execution": {
     "iopub.execute_input": "2023-07-09T08:44:05.107532Z",
     "iopub.status.busy": "2023-07-09T08:44:05.107255Z",
     "iopub.status.idle": "2023-07-09T08:44:16.549433Z",
     "shell.execute_reply": "2023-07-09T08:44:16.548566Z",
     "shell.execute_reply.started": "2023-07-09T08:44:05.107509Z"
    }
   },
   "outputs": [],
   "source": [
    "X_train_transformed=transformer(X_train,pipe_numerical,ct,True)\n",
    "X_test_transformed=transformer(X_test,pipe_numerical,ct,False)\n"
   ]
  },
  {
   "cell_type": "code",
   "execution_count": null,
   "metadata": {},
   "outputs": [],
   "source": []
  },
  {
   "cell_type": "markdown",
   "metadata": {},
   "source": [
    "# Models"
   ]
  },
  {
   "cell_type": "markdown",
   "metadata": {},
   "source": [
    "### LinerSVC"
   ]
  },
  {
   "cell_type": "code",
   "execution_count": null,
   "metadata": {
    "execution": {
     "iopub.execute_input": "2023-07-09T08:44:16.550784Z",
     "iopub.status.busy": "2023-07-09T08:44:16.550493Z",
     "iopub.status.idle": "2023-07-09T08:44:47.390849Z",
     "shell.execute_reply": "2023-07-09T08:44:47.389738Z",
     "shell.execute_reply.started": "2023-07-09T08:44:16.550760Z"
    }
   },
   "outputs": [],
   "source": []
  },
  {
   "cell_type": "code",
   "execution_count": 14,
   "metadata": {},
   "outputs": [],
   "source": [
    "# #perofrmed cross validation\n",
    "# sv = LinearSVC()\n",
    "# param_grid = {\n",
    "#     'C': [0.05, 0.1, 1.0, 5],\n",
    "#     'max_iter': [1000, 5000, 10000],\n",
    "#     'tol': [1e-3, 1e-4, 1e-5],\n",
    "#     'loss':['hinge', 'squared_hinge'],\n",
    "# }\n",
    "# grid_search = GridSearchCV(sv, param_grid, cv=5)  \n",
    "# grid_search.fit(X_train_transformed,y_train)\n",
    "\n"
   ]
  },
  {
   "cell_type": "code",
   "execution_count": 15,
   "metadata": {},
   "outputs": [
    {
     "data": {
      "text/plain": [
       "LinearSVC(C=0.05, dual=False, max_iter=5000, tol=1e-05)"
      ]
     },
     "execution_count": 15,
     "metadata": {},
     "output_type": "execute_result"
    }
   ],
   "source": [
    "from sklearn.svm import LinearSVC\n",
    "sv = LinearSVC(max_iter=5000,C=0.05,tol=1e-05,dual=False,loss='squared_hinge')\n",
    "sv.fit(X_train_transformed,y_train)\n"
   ]
  },
  {
   "cell_type": "code",
   "execution_count": 16,
   "metadata": {},
   "outputs": [
    {
     "data": {
      "text/html": [
       "<div>\n",
       "<style scoped>\n",
       "    .dataframe tbody tr th:only-of-type {\n",
       "        vertical-align: middle;\n",
       "    }\n",
       "\n",
       "    .dataframe tbody tr th {\n",
       "        vertical-align: top;\n",
       "    }\n",
       "\n",
       "    .dataframe thead th {\n",
       "        text-align: right;\n",
       "    }\n",
       "</style>\n",
       "<table border=\"1\" class=\"dataframe\">\n",
       "  <thead>\n",
       "    <tr style=\"text-align: right;\">\n",
       "      <th></th>\n",
       "      <th>Training</th>\n",
       "      <th>Testing</th>\n",
       "    </tr>\n",
       "  </thead>\n",
       "  <tbody>\n",
       "    <tr>\n",
       "      <th>Accuracy</th>\n",
       "      <td>0.868500</td>\n",
       "      <td>0.830573</td>\n",
       "    </tr>\n",
       "    <tr>\n",
       "      <th>F1 Score</th>\n",
       "      <td>0.904812</td>\n",
       "      <td>0.877822</td>\n",
       "    </tr>\n",
       "  </tbody>\n",
       "</table>\n",
       "</div>"
      ],
      "text/plain": [
       "          Training   Testing\n",
       "Accuracy  0.868500  0.830573\n",
       "F1 Score  0.904812  0.877822"
      ]
     },
     "execution_count": 16,
     "metadata": {},
     "output_type": "execute_result"
    }
   ],
   "source": [
    "prediction_train = sv.predict(X_train_transformed)\n",
    "prediction_test = sv.predict(X_test_transformed)\n",
    "training_accuracy = sv.score(X_train_transformed, y_train)\n",
    "testing_accuracy = sv.score(X_test_transformed, y_test)\n",
    "training_f1 = f1_score(prediction_train, y_train)\n",
    "testing_f1 = f1_score(prediction_test, y_test)\n",
    "results_data = {\n",
    "    'Training': [training_accuracy, training_f1],\n",
    "    'Testing': [testing_accuracy, testing_f1]\n",
    "}\n",
    "results_df = pd.DataFrame(results_data,index=['Accuracy', 'F1 Score'])\n",
    "results_df"
   ]
  },
  {
   "cell_type": "code",
   "execution_count": 23,
   "metadata": {},
   "outputs": [
    {
     "data": {
      "image/png": "[encoded data removed]",
      "text/plain": [
       "<Figure size 432x288 with 2 Axes>"
      ]
     },
     "metadata": {
      "needs_background": "light"
     },
     "output_type": "display_data"
    }
   ],
   "source": [
    "_ = ConfusionMatrixDisplay(confusion_matrix(y_test,prediction_test)).plot()"
   ]
  },
  {
   "cell_type": "markdown",
   "metadata": {},
   "source": [
    "### SGDClassifier "
   ]
  },
  {
   "cell_type": "code",
   "execution_count": null,
   "metadata": {},
   "outputs": [],
   "source": [
    "# clf = SGDClassifier()\n",
    "# param_grid = {\n",
    "#     'loss': ['hinge', 'log', 'modified_huber', 'squared_hinge', 'perceptron'],\n",
    "#     'penalty': ['none', 'l2', 'l1', 'elasticnet'],\n",
    "#     'alpha': [0.0001, 0.001, 0.01, 0.1],\n",
    "#     'max_iter': [1000, 2000, 3000],\n",
    "#     'random_state': [42]\n",
    "# }\n",
    "# grid_search = GridSearchCV(sv, param_grid, cv=5)  \n",
    "# grid_search.fit(X_train_transformed,y_train)\n",
    "\n"
   ]
  },
  {
   "cell_type": "code",
   "execution_count": null,
   "metadata": {},
   "outputs": [],
   "source": [
    "from sklearn.linear_model import SGDClassifier\n",
    "clf = SGDClassifier()\n",
    "clf.fit(X_train_transformed,y_train)\n"
   ]
  },
  {
   "cell_type": "code",
   "execution_count": null,
   "metadata": {},
   "outputs": [],
   "source": [
    "prediction_train = clf.predict(X_train_transformed)\n",
    "prediction_test = clf.predict(X_test_transformed)\n",
    "training_accuracy = clf.score(X_train_transformed, y_train)\n",
    "testing_accuracy = clf.score(X_test_transformed, y_test)\n",
    "training_f1 = f1_score(prediction_train, y_train)\n",
    "testing_f1 = f1_score(prediction_test, y_test)\n",
    "results_data = {\n",
    "    'Training': [training_accuracy, training_f1],\n",
    "    'Testing': [testing_accuracy, testing_f1]\n",
    "}\n",
    "results_df = pd.DataFrame(results_data,index=['Accuracy', 'F1 Score'])\n",
    "results_df"
   ]
  },
  {
   "cell_type": "code",
   "execution_count": null,
   "metadata": {},
   "outputs": [],
   "source": [
    "_ = ConfusionMatrixDisplay(confusion_matrix(y_test,prediction_test)).plot()"
   ]
  },
  {
   "cell_type": "markdown",
   "metadata": {},
   "source": [
    "### LogisticRegression "
   ]
  },
  {
   "cell_type": "code",
   "execution_count": null,
   "metadata": {},
   "outputs": [],
   "source": [
    "from sklearn.linear_model import LogisticRegression\n",
    "lr=LogisticRegression(max_iter=3000)\n",
    "lr.fit(X_train_transformed,y_train)\n"
   ]
  },
  {
   "cell_type": "code",
   "execution_count": null,
   "metadata": {},
   "outputs": [],
   "source": [
    "prediction_train = lr.predict(X_train_transformed)\n",
    "prediction_test = lr.predict(X_test_transformed)\n",
    "training_accuracy = lr.score(X_train_transformed, y_train)\n",
    "testing_accuracy = lr.score(X_test_transformed, y_test)\n",
    "training_f1 = f1_score(prediction_train, y_train)\n",
    "testing_f1 = f1_score(prediction_test, y_test)\n",
    "results_data = {\n",
    "    'Training': [training_accuracy, training_f1],\n",
    "    'Testing': [testing_accuracy, testing_f1]\n",
    "}\n",
    "results_df = pd.DataFrame(results_data,index=['Accuracy', 'F1 Score'])\n",
    "results_df"
   ]
  },
  {
   "cell_type": "code",
   "execution_count": null,
   "metadata": {},
   "outputs": [],
   "source": [
    "_ = ConfusionMatrixDisplay(confusion_matrix(y_test,prediction_test)).plot()\n"
   ]
  },
  {
   "cell_type": "markdown",
   "metadata": {},
   "source": [
    "### DecisionTreeClasssifier with Bagging and Boosting"
   ]
  },
  {
   "cell_type": "code",
   "execution_count": null,
   "metadata": {},
   "outputs": [],
   "source": [
    "from sklearn.tree import DecisionTreeClassifier\n",
    "d_clf = DecisionTreeClassifier(max_depth=7, random_state=42)\n",
    "d_clf.fit(X_train_transformed,y_train)"
   ]
  },
  {
   "cell_type": "code",
   "execution_count": null,
   "metadata": {},
   "outputs": [],
   "source": []
  },
  {
   "cell_type": "code",
   "execution_count": null,
   "metadata": {},
   "outputs": [],
   "source": [
    "prediction_train = d_clf.predict(X_train_transformed)\n",
    "prediction_test = d_clf.predict(X_test_transformed)\n",
    "training_accuracy = d_clf.score(X_train_transformed, y_train)\n",
    "testing_accuracy = d_clf.score(X_test_transformed, y_test)\n",
    "training_f1 = f1_score(prediction_train, y_train)\n",
    "testing_f1 = f1_score(prediction_test, y_test)\n",
    "results_data = {\n",
    "    'Training': [training_accuracy, training_f1],\n",
    "    'Testing': [testing_accuracy, testing_f1]\n",
    "}\n",
    "results_df = pd.DataFrame(results_data,index=['Accuracy', 'F1 Score'])\n",
    "results_df"
   ]
  },
  {
   "cell_type": "code",
   "execution_count": null,
   "metadata": {},
   "outputs": [],
   "source": [
    "_ = ConfusionMatrixDisplay(confusion_matrix(y_test,prediction_test)).plot()\n"
   ]
  },
  {
   "cell_type": "markdown",
   "metadata": {},
   "source": [
    "###### Bagging"
   ]
  },
  {
   "cell_type": "code",
   "execution_count": null,
   "metadata": {},
   "outputs": [],
   "source": [
    "from sklearn.ensemble import BaggingClassifier\n",
    "\n",
    "bagging_classifier = BaggingClassifier(base_estimator=d_clf, n_estimators=10,n_jobs=-1, random_state=42)\n",
    "bagging_classifier.fit(X_train_transformed, y_train)\n",
    "bagging_train_accuracy = bagging_classifier.score(X_train_transformed, y_train)\n",
    "bagging_test_accuracy = bagging_classifier.score(X_test_transformed, y_test)\n"
   ]
  },
  {
   "cell_type": "code",
   "execution_count": null,
   "metadata": {},
   "outputs": [],
   "source": [
    "prediction_train = bagging_classifier.predict(X_train_transformed)\n",
    "prediction_test = bagging_classifier.predict(X_test_transformed)\n",
    "training_accuracy = bagging_classifier.score(X_train_transformed, y_train)\n",
    "testing_accuracy = bagging_classifier.score(X_test_transformed, y_test)\n",
    "training_f1 = f1_score(prediction_train, y_train)\n",
    "testing_f1 = f1_score(prediction_test, y_test)\n",
    "results_data = {\n",
    "    'Training': [training_accuracy, training_f1],\n",
    "    'Testing': [testing_accuracy, testing_f1]\n",
    "}\n",
    "results_df = pd.DataFrame(results_data,index=['Accuracy', 'F1 Score'])\n",
    "results_df"
   ]
  },
  {
   "cell_type": "code",
   "execution_count": null,
   "metadata": {},
   "outputs": [],
   "source": [
    "_ = ConfusionMatrixDisplay(confusion_matrix(y_test,prediction_test)).plot()\n"
   ]
  },
  {
   "cell_type": "markdown",
   "metadata": {},
   "source": [
    "###### Boosting"
   ]
  },
  {
   "cell_type": "code",
   "execution_count": null,
   "metadata": {},
   "outputs": [],
   "source": [
    "from sklearn.ensemble import AdaBoostClassifier\n",
    "boosting_classifier = AdaBoostClassifier(base_estimator=d_clf, n_estimators=10, random_state=42)\n",
    "boosting_classifier.fit(X_train_transformed, y_train)\n",
    "boosting_train_accuracy = boosting_classifier.score(X_train_transformed, y_train)\n",
    "boosting_test_accuracy = boosting_classifier.score(X_test_transformed, y_test)\n"
   ]
  },
  {
   "cell_type": "code",
   "execution_count": null,
   "metadata": {},
   "outputs": [],
   "source": [
    "prediction_train = boosting_classifier.predict(X_train_transformed)\n",
    "prediction_test = boosting_classifier.predict(X_test_transformed)\n",
    "training_accuracy = boosting_classifier.score(X_train_transformed, y_train)\n",
    "testing_accuracy = boosting_classifier.score(X_test_transformed, y_test)\n",
    "training_f1 = f1_score(prediction_train, y_train)\n",
    "testing_f1 = f1_score(prediction_test, y_test)\n",
    "results_data = {\n",
    "    'Training': [training_accuracy, training_f1],\n",
    "    'Testing': [testing_accuracy, testing_f1]\n",
    "}\n",
    "results_df = pd.DataFrame(results_data,index=['Accuracy', 'F1 Score'])\n",
    "results_df"
   ]
  },
  {
   "cell_type": "code",
   "execution_count": null,
   "metadata": {},
   "outputs": [],
   "source": [
    "_ = ConfusionMatrixDisplay(confusion_matrix(y_test,prediction_test)).plot()\n"
   ]
  },
  {
   "cell_type": "markdown",
   "metadata": {},
   "source": [
    "# prediction"
   ]
  },
  {
   "cell_type": "code",
   "execution_count": null,
   "metadata": {
    "execution": {
     "iopub.execute_input": "2023-07-09T08:44:47.392432Z",
     "iopub.status.busy": "2023-07-09T08:44:47.392126Z",
     "iopub.status.idle": "2023-07-09T08:44:47.437283Z",
     "shell.execute_reply": "2023-07-09T08:44:47.436415Z",
     "shell.execute_reply.started": "2023-07-09T08:44:47.392406Z"
    }
   },
   "outputs": [],
   "source": [
    "X_train,y_train=train.drop('sentiment',axis=1),train['sentiment']\n",
    "X_test = test"
   ]
  },
  {
   "cell_type": "code",
   "execution_count": null,
   "metadata": {
    "execution": {
     "iopub.execute_input": "2023-07-09T08:44:47.438712Z",
     "iopub.status.busy": "2023-07-09T08:44:47.438405Z",
     "iopub.status.idle": "2023-07-09T08:44:47.523599Z",
     "shell.execute_reply": "2023-07-09T08:44:47.522622Z",
     "shell.execute_reply.started": "2023-07-09T08:44:47.438685Z"
    }
   },
   "outputs": [],
   "source": [
    "X_train['isFrequentReviewer']=X_train['isFrequentReviewer'].apply(lambda x:(1.0 if x else 0.0))\n",
    "X_train['reviewText'].fillna('',inplace=True)\n",
    "\n",
    "\n",
    "X_test['isFrequentReviewer']=X_test['isFrequentReviewer'].apply(lambda x:(1.0 if x else 0.0))\n",
    "X_test['reviewText'].fillna('',inplace=True)\n",
    "\n"
   ]
  },
  {
   "cell_type": "code",
   "execution_count": null,
   "metadata": {
    "execution": {
     "iopub.execute_input": "2023-07-09T08:44:47.525145Z",
     "iopub.status.busy": "2023-07-09T08:44:47.524864Z",
     "iopub.status.idle": "2023-07-09T08:44:47.569879Z",
     "shell.execute_reply": "2023-07-09T08:44:47.568858Z",
     "shell.execute_reply.started": "2023-07-09T08:44:47.525122Z"
    }
   },
   "outputs": [],
   "source": [
    "encoder=LabelEncoder()\n",
    "y_train = encoder.fit_transform(y_train)\n"
   ]
  },
  {
   "cell_type": "code",
   "execution_count": null,
   "metadata": {
    "execution": {
     "iopub.execute_input": "2023-07-09T08:44:47.571389Z",
     "iopub.status.busy": "2023-07-09T08:44:47.571098Z",
     "iopub.status.idle": "2023-07-09T08:45:02.350986Z",
     "shell.execute_reply": "2023-07-09T08:45:02.349903Z",
     "shell.execute_reply.started": "2023-07-09T08:44:47.571365Z"
    }
   },
   "outputs": [],
   "source": [
    "X_train_transformed=transformer(X_train,pipe_numerical,ct,True)\n",
    "X_test_transformed=transformer(X_test,pipe_numerical,ct,False)"
   ]
  },
  {
   "cell_type": "code",
   "execution_count": null,
   "metadata": {
    "execution": {
     "iopub.execute_input": "2023-07-09T08:45:02.352589Z",
     "iopub.status.busy": "2023-07-09T08:45:02.352276Z",
     "iopub.status.idle": "2023-07-09T08:45:42.640011Z",
     "shell.execute_reply": "2023-07-09T08:45:42.639047Z",
     "shell.execute_reply.started": "2023-07-09T08:45:02.352562Z"
    }
   },
   "outputs": [],
   "source": [
    "from sklearn.svm import LinearSVC\n",
    "sv = LinearSVC(max_iter=5000,C=0.06,tol=1e-05,dual=False)\n",
    "sv.fit(X_train_transformed,y_train)\n",
    "sv.score(X_train_transformed,y_train)"
   ]
  },
  {
   "cell_type": "code",
   "execution_count": null,
   "metadata": {},
   "outputs": [],
   "source": []
  },
  {
   "cell_type": "code",
   "execution_count": null,
   "metadata": {},
   "outputs": [],
   "source": []
  },
  {
   "cell_type": "code",
   "execution_count": null,
   "metadata": {
    "execution": {
     "iopub.execute_input": "2023-07-09T08:45:42.641446Z",
     "iopub.status.busy": "2023-07-09T08:45:42.641152Z",
     "iopub.status.idle": "2023-07-09T08:45:42.861317Z",
     "shell.execute_reply": "2023-07-09T08:45:42.860492Z",
     "shell.execute_reply.started": "2023-07-09T08:45:42.641421Z"
    }
   },
   "outputs": [],
   "source": [
    "\n",
    "prediction=sv.predict(X_test_transformed)\n",
    "prediction = encoder.inverse_transform(prediction)\n",
    "\n",
    "submission = pd.DataFrame(columns=['id','sentiment'])\n",
    "submission['id'] = list(range(len(prediction)))\n",
    "\n",
    "submission['sentiment'] = prediction\n",
    "\n",
    "\n",
    "submission.to_csv(\"submission.csv\",index=False)"
   ]
  }
 ],
 "metadata": {
  "kernelspec": {
   "display_name": "Python 3",
   "language": "python",
   "name": "python3"
  },
  "language_info": {
   "codemirror_mode": {
    "name": "ipython",
    "version": 3
   },
   "file_extension": ".py",
   "mimetype": "text/x-python",
   "name": "python",
   "nbconvert_exporter": "python",
   "pygments_lexer": "ipython3",
   "version": "3.8.8"
  }
 },
 "nbformat": 4,
 "nbformat_minor": 4
}
